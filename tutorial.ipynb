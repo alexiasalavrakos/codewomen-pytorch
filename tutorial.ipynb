{
 "cells": [
  {
   "cell_type": "markdown",
   "id": "8b8d7fc7-4cad-417c-bc7e-63e3c4c39d0e",
   "metadata": {},
   "source": [
    "Based on the [PyTorch quickstart tutorial](https://docs.pytorch.org/tutorials/beginner/basics/quickstart_tutorial.html)."
   ]
  },
  {
   "cell_type": "markdown",
   "id": "3f63aeb8-a70a-4ffb-8461-859638111f26",
   "metadata": {},
   "source": [
    "### Setting up"
   ]
  },
  {
   "cell_type": "code",
   "execution_count": null,
   "id": "34ea91ef-960b-483d-bc1b-be1f6201189e",
   "metadata": {},
   "outputs": [],
   "source": [
    "import torch\n",
    "from torch import nn\n",
    "from torch.utils.data import DataLoader\n",
    "from torchvision import datasets\n",
    "from torchvision.transforms import ToTensor"
   ]
  },
  {
   "cell_type": "markdown",
   "id": "3439451e-b659-4301-a80b-033992c1319b",
   "metadata": {},
   "source": [
    "### Data"
   ]
  },
  {
   "cell_type": "markdown",
   "id": "a201a268-073a-4900-acf2-4f02394d2f91",
   "metadata": {},
   "source": [
    "Check out different options for datasets here: https://docs.pytorch.org/vision/main/datasets.html"
   ]
  },
  {
   "cell_type": "code",
   "execution_count": null,
   "id": "e7be4b4d-a734-4d94-96b0-22c5a33367b9",
   "metadata": {},
   "outputs": [],
   "source": [
    "# Download training data from open datasets.\n",
    "training_data = datasets.MNIST(\n",
    "    root=\"data\",\n",
    "    train=True,\n",
    "    download=True,\n",
    "    transform=ToTensor(),\n",
    ")\n",
    "\n",
    "# Download test data from open datasets.\n",
    "test_data = datasets.MNIST(\n",
    "    root=\"data\",\n",
    "    train=False,\n",
    "    download=True,\n",
    "    transform=ToTensor(),\n",
    ")"
   ]
  },
  {
   "cell_type": "code",
   "execution_count": null,
   "id": "df0aee3c-d226-4c33-893f-9fe9c4ec87e7",
   "metadata": {},
   "outputs": [],
   "source": [
    "batch_size = 64"
   ]
  },
  {
   "cell_type": "code",
   "execution_count": null,
   "id": "ae46dbaa-b34d-4731-92e7-6e8a479f9521",
   "metadata": {},
   "outputs": [],
   "source": [
    "# Create data loaders.\n",
    "train_dataloader = DataLoader(training_data, batch_size=batch_size)\n",
    "test_dataloader = DataLoader(test_data, batch_size=batch_size)"
   ]
  },
  {
   "cell_type": "code",
   "execution_count": null,
   "id": "f3645895-959b-4d28-b918-cbbc934485cf",
   "metadata": {},
   "outputs": [],
   "source": [
    "for X, y in test_dataloader:\n",
    "    print(f\"Shape of X [N, C, H, W]: {X.shape}\")\n",
    "    print(f\"Shape of y: {y.shape} {y.dtype}\")\n",
    "    break"
   ]
  },
  {
   "cell_type": "markdown",
   "id": "ed62899c-4d1c-4b3e-a073-2bb802f2bd8f",
   "metadata": {},
   "source": [
    "### Defining model"
   ]
  },
  {
   "cell_type": "code",
   "execution_count": null,
   "id": "28a9a96c-db58-4c37-92f9-a545a8c0a02b",
   "metadata": {},
   "outputs": [],
   "source": [
    "#device = torch.accelerator.current_accelerator().type if torch.accelerator.is_available() else \"cpu\"\n",
    "device = 'cpu'\n",
    "print(f\"Using {device} device\")"
   ]
  },
  {
   "cell_type": "markdown",
   "id": "d5309fcf-8c64-4b18-8c0c-b1f305f652aa",
   "metadata": {},
   "source": [
    "Some things are missing in the class below!"
   ]
  },
  {
   "cell_type": "code",
   "execution_count": null,
   "id": "cb016deb-5324-4f37-974f-3e5ebc562a0d",
   "metadata": {},
   "outputs": [],
   "source": [
    "# Define model\n",
    "class NeuralNetwork(nn.Module):\n",
    "    def __init__(self):\n",
    "        super().__init__()\n",
    "        self.flatten = nn.Flatten()\n",
    "        self.linear_relu_stack = nn.Sequential(\n",
    "            nn.Linear(, 512),\n",
    "            nn.Linear(512, 512),\n",
    "            nn.Linear(512,)\n",
    "        )\n",
    "\n",
    "    def forward(self, x):\n",
    "        \n",
    "        return logits\n"
   ]
  },
  {
   "cell_type": "code",
   "execution_count": null,
   "id": "85a9389c-f35e-4e99-ae76-f601c936814f",
   "metadata": {},
   "outputs": [],
   "source": [
    "model = NeuralNetwork().to(device)"
   ]
  },
  {
   "cell_type": "code",
   "execution_count": null,
   "id": "dfbb33dc-8cca-41e6-a7e0-8bf276141260",
   "metadata": {},
   "outputs": [],
   "source": [
    "print(model)"
   ]
  },
  {
   "cell_type": "markdown",
   "id": "f6157b16-d359-4622-9445-dd8804fc9bbb",
   "metadata": {},
   "source": [
    "### Training model"
   ]
  },
  {
   "cell_type": "code",
   "execution_count": null,
   "id": "7d5ff867-dd93-4335-a4cc-5567934bc50d",
   "metadata": {},
   "outputs": [],
   "source": [
    "loss_fn = nn.CrossEntropyLoss()\n",
    "optimizer = torch.optim.SGD(model.parameters(), lr=)"
   ]
  },
  {
   "cell_type": "markdown",
   "id": "5ebf14e1-03ab-4316-8ba9-1d35d636e74a",
   "metadata": {},
   "source": [
    "Here focus on the backpropagation algorithm section of the function"
   ]
  },
  {
   "cell_type": "code",
   "execution_count": null,
   "id": "c5eed67f-5169-4177-8837-44590d132678",
   "metadata": {},
   "outputs": [],
   "source": [
    "def train(dataloader, model, loss_fn, optimizer):\n",
    "    size = len(dataloader.dataset)\n",
    "    model.train()\n",
    "    for batch, (X, y) in enumerate(dataloader):\n",
    "        X, y = X.to(device), y.to(device)\n",
    "\n",
    "        # Compute prediction error\n",
    "        pred = model(X)\n",
    "        loss = loss_fn(pred, y)\n",
    "\n",
    "        # Backpropagation\n",
    "        # Missing things here\n",
    "\n",
    "        if batch % 100 == 0:\n",
    "            loss, current = loss.item(), (batch + 1) * len(X)\n",
    "            print(f\"loss: {loss:>7f}  [{current:>5d}/{size:>5d}]\")"
   ]
  },
  {
   "cell_type": "code",
   "execution_count": null,
   "id": "de582bf8-71a4-44f9-bee6-5bf8ff918c3f",
   "metadata": {},
   "outputs": [],
   "source": [
    "def test(dataloader, model, loss_fn):\n",
    "    size = len(dataloader.dataset)\n",
    "    num_batches = len(dataloader)\n",
    "    model.eval()\n",
    "    test_loss, correct = 0, 0\n",
    "    with torch.no_grad():\n",
    "        for X, y in dataloader:\n",
    "            X, y = X.to(device), y.to(device)\n",
    "            pred = model(X)\n",
    "            test_loss += loss_fn(pred, y).item()\n",
    "            correct += (pred.argmax(1) == y).type(torch.float).sum().item()\n",
    "    test_loss /= num_batches\n",
    "    correct /= size\n",
    "    print(f\"Test Error: \\n Accuracy: {(100*correct):>0.1f}%, Avg loss: {test_loss:>8f} \\n\")"
   ]
  },
  {
   "cell_type": "markdown",
   "id": "89d0abef-65a4-4caa-9df4-3da976d40dcc",
   "metadata": {},
   "source": [
    "Here recall epochs and mini batches"
   ]
  },
  {
   "cell_type": "code",
   "execution_count": null,
   "id": "b4c5d3df-2c0d-4ea3-90ea-46f6e07f78b0",
   "metadata": {},
   "outputs": [],
   "source": [
    "epochs = 5\n",
    "for t in range(epochs):\n",
    "    print(f\"Epoch {t+1}\\n-------------------------------\")\n",
    "    train(train_dataloader, model, loss_fn, optimizer)\n",
    "    test(test_dataloader, model, loss_fn)\n",
    "print(\"Done!\")"
   ]
  },
  {
   "cell_type": "markdown",
   "id": "939c0d0d-d3b8-48a5-9bff-f89183faab76",
   "metadata": {},
   "source": [
    "### Saving model"
   ]
  },
  {
   "cell_type": "code",
   "execution_count": null,
   "id": "6c06c119-22f3-451a-ae24-e7a2b6ea3d19",
   "metadata": {},
   "outputs": [],
   "source": [
    "torch.save(model.state_dict(), \"model.pth\")\n",
    "print(\"Saved PyTorch Model State to model.pth\")"
   ]
  },
  {
   "cell_type": "markdown",
   "id": "f31b22eb-26d5-49fa-bbed-438fa9ac4076",
   "metadata": {},
   "source": [
    "### Loading model and using it"
   ]
  },
  {
   "cell_type": "code",
   "execution_count": null,
   "id": "f957b833-4f62-4761-8ff7-9d1f23702c17",
   "metadata": {},
   "outputs": [],
   "source": [
    "model = NeuralNetwork().to(device)\n",
    "model.load_state_dict(torch.load(\"model.pth\", weights_only=True))"
   ]
  },
  {
   "cell_type": "code",
   "execution_count": null,
   "id": "2b5a2984-0e94-4e14-b9c7-cbec005b3d31",
   "metadata": {},
   "outputs": [],
   "source": [
    "classes = [0,1,2,3,4,5,6,7,8,9]"
   ]
  },
  {
   "cell_type": "code",
   "execution_count": null,
   "id": "4a115ee5-ae48-4670-9b07-a14e1275bfdc",
   "metadata": {},
   "outputs": [],
   "source": [
    "for i in range(20):\n",
    "    model.eval()\n",
    "    x, y = test_data[i][0], test_data[i][1]\n",
    "    with torch.no_grad():\n",
    "        x = x.to(device)\n",
    "        pred = model(x)\n",
    "        predicted, actual = classes[pred[0].argmax(0)], classes[y]\n",
    "        print(f'Predicted: \"{predicted}\", Actual: \"{actual}\"')"
   ]
  },
  {
   "cell_type": "markdown",
   "id": "92812372-38d2-4cc9-8ee9-5f956e926045",
   "metadata": {},
   "source": [
    "### Quick look at confusion matrix"
   ]
  },
  {
   "cell_type": "code",
   "execution_count": null,
   "id": "aefef292-a484-41d8-8bed-72491ef75438",
   "metadata": {},
   "outputs": [],
   "source": [
    "from sklearn.metrics import confusion_matrix, ConfusionMatrixDisplay"
   ]
  },
  {
   "cell_type": "code",
   "execution_count": null,
   "id": "730e1b7c-4a78-4f73-981f-70768ddc28c4",
   "metadata": {},
   "outputs": [],
   "source": [
    "test_labels = []\n",
    "test_preds = []\n",
    "\n",
    "with torch.no_grad():\n",
    "    for X, y in test_data:\n",
    "        pred = model(X)\n",
    "        test_preds.append(classes[pred[0].argmax(0)])\n",
    "        test_labels.append(y)"
   ]
  },
  {
   "cell_type": "code",
   "execution_count": null,
   "id": "e8b8ff5d-8b97-4e5d-9ec4-6177f4ac767a",
   "metadata": {},
   "outputs": [],
   "source": [
    "cm = confusion_matrix(test_labels, test_preds)\n",
    "ConfusionMatrixDisplay(cm).plot()"
   ]
  },
  {
   "cell_type": "markdown",
   "id": "77c62536-dd2c-449f-b411-0446e2038495",
   "metadata": {},
   "source": [
    "---"
   ]
  },
  {
   "cell_type": "markdown",
   "id": "380dc7b8-42f3-42d8-a028-4ef1952be754",
   "metadata": {},
   "source": [
    "Take home message: you can reuse this structure, and change some parts according to the problem you're trying to solve"
   ]
  }
 ],
 "metadata": {
  "kernelspec": {
   "display_name": "Python 3 (ipykernel)",
   "language": "python",
   "name": "python3"
  },
  "language_info": {
   "codemirror_mode": {
    "name": "ipython",
    "version": 3
   },
   "file_extension": ".py",
   "mimetype": "text/x-python",
   "name": "python",
   "nbconvert_exporter": "python",
   "pygments_lexer": "ipython3",
   "version": "3.10.6"
  }
 },
 "nbformat": 4,
 "nbformat_minor": 5
}
